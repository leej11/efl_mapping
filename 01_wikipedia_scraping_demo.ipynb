{
 "cells": [
  {
   "cell_type": "code",
   "execution_count": 1,
   "metadata": {},
   "outputs": [],
   "source": [
    "import requests\n",
    "from bs4 import BeautifulSoup\n",
    "import pandas as pd\n",
    "import efl_mapping as efl"
   ]
  },
  {
   "cell_type": "markdown",
   "metadata": {},
   "source": [
    "### Get the raw wikipedia HTML using the `requests` library\n",
    "\n",
    "The requests library is a python library that: \n",
    "> \"allows you to send HTTP/1.1 requests extremely easily\"\n",
    "> https://requests.readthedocs.io/en/master/\n",
    "\n",
    "For our purposes, just understand that we are using `requests.get` function, that allows us to \"GET\" the HTML from a particular URL or web address. \n",
    "\n",
    "We will then use this, to analyse and extract information that we care about, programmatically."
   ]
  },
  {
   "cell_type": "code",
   "execution_count": 2,
   "metadata": {},
   "outputs": [
    {
     "data": {
      "text/plain": [
       "'<!DOCTYPE html>\\n<html class=\"client-nojs\" lang=\"en\" dir=\"ltr\">\\n<head>\\n<meta charset=\"UTF-8\"/>\\n<title>EFL Championship - Wikipedia</title>\\n<script>document.documentElement.className=\"client-js\";RLCONF='"
      ]
     },
     "execution_count": 2,
     "metadata": {},
     "output_type": "execute_result"
    }
   ],
   "source": [
    "response = requests.get(\n",
    "        \"https://en.wikipedia.org/wiki/EFL_Championship\"\n",
    "    ).text\n",
    "\n",
    "response[:200] # Just the first 200 characters otherwise it is LONG"
   ]
  },
  {
   "attachments": {
    "560550a2-77e8-409b-a1f7-bd000f9fea31.png": {
     "image/png": "[encoded data removed]"
    }
   },
   "cell_type": "markdown",
   "metadata": {},
   "source": [
    "### Parse the HTML into a navigable BeautifulSoup object\n",
    "Having just seen the above string output, you now realise how on earth am I meant to get the information I want out of it? It is one massive, somewhat unstructured string.\n",
    "\n",
    "This is where the Python library BeautifulSoup steps in. According to the Wikipedia definition of what BeautifulSoup does, it says this:\n",
    "\n",
    "> Beautiful Soup is a Python package for parsing HTML and XML documents (including having malformed markup, i.e. non-closed tags, so named after tag soup). It creates a parse tree for parsed pages that can be used to extract data from HTML, which is useful for web scraping.\n",
    "> https://en.wikipedia.org/wiki/Beautiful_Soup_(HTML_parser)\n",
    "\n",
    "Okay, like with any definition, you then find yourself wanting to lookup another definition... what is a \"parse tree?\"\n",
    "\n",
    "> A parse tree or parsing tree[1] or derivation tree or concrete syntax tree is an ordered, rooted tree that represents the syntactic structure of a string according to some context-free grammar...\n",
    "> https://en.wikipedia.org/wiki/Parse_tree#:~:text=A%20parse%20tree%20or%20parsing,to%20some%20context%2Dfree%20grammar.https://en.wikipedia.org/wiki/Parse_tree#:~:text=A%20parse%20tree%20or%20parsing,to%20some%20context%2Dfree%20grammar.\n",
    "\n",
    "After Googling for a HTML parse tree, I found this image.\n",
    "\n",
    "![image.png](attachment:560550a2-77e8-409b-a1f7-bd000f9fea31.png)\n",
    "\n",
    "If you're familiar with HTML, this probably all makes sense now. IF not, just know that there is kind of a hierarchical order to HTML. Much like with a family tree, it starts with one family, then 2 children, who then each have 2 children of their own, they are each siblings and so on and so forth. You can form a structured tree of HTML much like a family.\n",
    "\n",
    "BeautifulSoup understands this structure implicitly, and enables the Python user to much more easily query and search the HTML, to find what one is looking for!!\n",
    "\n",
    "Haha amazing! Now let's get \"scraping\"."
   ]
  },
  {
   "cell_type": "code",
   "execution_count": 3,
   "metadata": {},
   "outputs": [],
   "source": [
    "soup = BeautifulSoup(response, 'lxml')"
   ]
  },
  {
   "cell_type": "markdown",
   "metadata": {},
   "source": [
    "You can now easily navigate to different tags and divs in the html."
   ]
  },
  {
   "cell_type": "code",
   "execution_count": 4,
   "metadata": {},
   "outputs": [
    {
     "data": {
      "text/plain": [
       "<title>EFL Championship - Wikipedia</title>"
      ]
     },
     "execution_count": 4,
     "metadata": {},
     "output_type": "execute_result"
    }
   ],
   "source": [
    "soup.title"
   ]
  },
  {
   "cell_type": "markdown",
   "metadata": {},
   "source": [
    "A slightly more sophisticated example, is that we can \"find_all\" of a certain tag in the document, for example below I've found all the link elements, and then printed the details of the text of first 5 links."
   ]
  },
  {
   "cell_type": "code",
   "execution_count": 5,
   "metadata": {},
   "outputs": [
    {
     "name": "stdout",
     "output_type": "stream",
     "text": [
      "\n",
      "Jump to navigation\n",
      "Jump to search\n",
      "English Championship (golf)\n",
      "Coca-Cola Charity Championship\n"
     ]
    }
   ],
   "source": [
    "for link in soup.find_all('a')[:5]:\n",
    "    print(link.text)"
   ]
  },
  {
   "cell_type": "markdown",
   "metadata": {},
   "source": [
    "Coming back to our project then, we know we are looking for a \"table\" element that represents our EFL team data, and we know it's a specific class of table as defined in the code, as a \"wikitable sortable\", so we can narrow down to that attribute with the below:"
   ]
  },
  {
   "cell_type": "code",
   "execution_count": 6,
   "metadata": {},
   "outputs": [
    {
     "data": {
      "text/plain": [
       "<table class=\"wikitable sortable\" style=\"text-align:center;\">\n",
       "<tbody><tr>\n",
       "<th>Club\n",
       "</th>\n",
       "<th>Finishing position <a href=\"/wiki/2019%E2%80%9320_EFL_Championship\" title=\"2019–20 EFL Championship\">last season</a>\n",
       "</th>\n",
       "<th>Location\n",
       "</th>\n",
       "<th>Stadium\n",
       "</th>\n",
       "<th>Capacity<sup class=\"reference\" id=\"cite_ref-20\"><a href=\"#cite_note-20\">[20]</a></sup>\n",
       "</th></tr>\n",
       "<tr>\n",
       "<td style=\"text-align:left;\"><a href=\"/wiki/Barnsley_F.C.\" title=\"Barnsley F.C.\">Barnsley</a></td>\n",
       "<td><span data-sort-value=\"7001210000000000000♠\" style=\"display:none\"></span>21st</td>\n",
       "<td><a href=\"/wiki/Barnsley\" title=\"Barnsley\">Barnsley</a></td>\n",
       "<td><a href=\"/wiki/Oakwell\" title=\"Oakwell\">Oakwell</a></td>\n",
       "<td align=\"center\">23,287\n",
       "</td></tr>\n",
       "<tr>\n",
       "<td style=\"text-align:left;\"><a href=\"/wiki/Birmingham_City_F.C.\" title=\"Birmingham City F.C.\">Birmingham City</a></td>\n",
       "<td><span data-sort-value=\"7001200000000000000♠\" style=\"display:none\"></span>20th</td>\n",
       "<td><a href=\"/wiki/Birmingham\" title=\"Birmingham\">Birmingham</a></td>\n",
       "<td><a href=\"/wiki/St_Andrew%27s_(stadium)\" title=\"St Andrew's (stadium)\">St Andrew's</a></td>\n",
       "<td align=\"center\">29,409\n",
       "</td></tr>\n",
       "<tr>\n",
       "<td style=\"text-align:left;\"><a href=\"/wiki/Blackburn_Rovers_F.C.\" title=\"Blackburn Rovers F.C.\">Blackburn Rovers</a></td>\n",
       "<td><span data-sort-value=\"7001110000000000000♠\" style=\"display:none\"></span>11th</td>\n",
       "<td><a href=\"/wiki/Blackburn\" title=\"Blackburn\">Blackburn</a></td>\n",
       "<td><a href=\"/wiki/Ewood_Park\" title=\"Ewood Park\">Ewood Park</a></td>\n",
       "<td align=\"center\">31,367\n",
       "</td></tr>\n",
       "<tr>\n",
       "<td style=\"text-align:left;\"><a class=\"mw-redirect\" href=\"/wiki/A.F.C._Bournemouth\" title=\"A.F.C. Bournemouth\">Bournemouth</a></td>\n",
       "<td><span data-sort-value=\"7000100000000000000♠\" style=\"display:none\"></span> 18th in <a href=\"/wiki/2019%E2%80%9320_Premier_League\" title=\"2019–20 Premier League\">Premier League</a> (relegated)</td>\n",
       "<td><a href=\"/wiki/Bournemouth\" title=\"Bournemouth\">Bournemouth</a></td>\n",
       "<td><a href=\"/wiki/Dean_Court\" title=\"Dean Court\">Dean Court</a></td>\n",
       "<td align=\"center\">11,364\n",
       "</td></tr>\n",
       "<tr>\n",
       "<td style=\"text-align:left;\"><a href=\"/wiki/Brentford_F.C.\" title=\"Brentford F.C.\">Brentford</a></td>\n",
       "<td><span data-sort-value=\"7000300000000000000♠\" style=\"display:none\"></span>3rd</td>\n",
       "<td><a href=\"/wiki/Greater_London\" title=\"Greater London\">London</a> <small>(<a href=\"/wiki/Brentford\" title=\"Brentford\">Brentford</a>)</small></td>\n",
       "<td><a href=\"/wiki/Brentford_Community_Stadium\" title=\"Brentford Community Stadium\">Brentford Community Stadium</a></td>\n",
       "<td align=\"center\">17,250\n",
       "</td></tr>\n",
       "<tr>\n",
       "<td style=\"text-align:left;\"><a href=\"/wiki/Bristol_City_F.C.\" title=\"Bristol City F.C.\">Bristol City</a></td>\n",
       "<td><span data-sort-value=\"7001120000000000000♠\" style=\"display:none\"></span>12th</td>\n",
       "<td><a href=\"/wiki/Bristol\" title=\"Bristol\">Bristol</a></td>\n",
       "<td><a href=\"/wiki/Ashton_Gate_Stadium\" title=\"Ashton Gate Stadium\">Ashton Gate</a></td>\n",
       "<td align=\"center\">27,000\n",
       "</td></tr>\n",
       "<tr>\n",
       "<td style=\"text-align:left;\"><a href=\"/wiki/Cardiff_City_F.C.\" title=\"Cardiff City F.C.\">Cardiff City</a></td>\n",
       "<td><span data-sort-value=\"7000600000000000000♠\" style=\"display:none\"></span>5th</td>\n",
       "<td><a href=\"/wiki/Cardiff\" title=\"Cardiff\">Cardiff</a></td>\n",
       "<td><a href=\"/wiki/Cardiff_City_Stadium\" title=\"Cardiff City Stadium\">Cardiff City Stadium</a></td>\n",
       "<td align=\"center\">33,316\n",
       "</td></tr>\n",
       "<tr>\n",
       "<td style=\"text-align:left;\"><a href=\"/wiki/Coventry_City_F.C.\" title=\"Coventry City F.C.\">Coventry City</a></td>\n",
       "<td><span data-sort-value=\"7001220000000000000♠\" style=\"display:none\"></span>1st in <a href=\"/wiki/2019%E2%80%9320_EFL_League_One\" title=\"2019–20 EFL League One\">League One</a> (promoted)</td>\n",
       "<td>Birmingham</td>\n",
       "<td>St Andrew's</td>\n",
       "<td align=\"center\">29,409\n",
       "</td></tr>\n",
       "<tr>\n",
       "<td style=\"text-align:left;\"><a href=\"/wiki/Derby_County_F.C.\" title=\"Derby County F.C.\">Derby County</a></td>\n",
       "<td><span data-sort-value=\"7001100000000000000♠\" style=\"display:none\"></span>10th</td>\n",
       "<td><a href=\"/wiki/Derby\" title=\"Derby\">Derby</a></td>\n",
       "<td><a href=\"/wiki/Pride_Park_Stadium\" title=\"Pride Park Stadium\">Pride Park Stadium</a></td>\n",
       "<td align=\"center\">33,597\n",
       "</td></tr>\n",
       "<tr>\n",
       "<td style=\"text-align:left;\"><a href=\"/wiki/Huddersfield_Town_A.F.C.\" title=\"Huddersfield Town A.F.C.\">Huddersfield Town</a></td>\n",
       "<td><span data-sort-value=\"7001180000000000000♠\" style=\"display:none\"></span>18th</td>\n",
       "<td><a href=\"/wiki/Huddersfield\" title=\"Huddersfield\">Huddersfield</a></td>\n",
       "<td><a href=\"/wiki/Kirklees_Stadium\" title=\"Kirklees Stadium\">Kirklees Stadium</a></td>\n",
       "<td align=\"center\">24,121\n",
       "</td></tr>\n",
       "<tr>\n",
       "<td style=\"text-align:left;\"><a href=\"/wiki/Luton_Town_F.C.\" title=\"Luton Town F.C.\">Luton Town</a></td>\n",
       "<td><span data-sort-value=\"7001190000000000000♠\" style=\"display:none\"></span>19th</td>\n",
       "<td><a href=\"/wiki/Luton\" title=\"Luton\">Luton</a></td>\n",
       "<td><a href=\"/wiki/Kenilworth_Road\" title=\"Kenilworth Road\">Kenilworth Road</a></td>\n",
       "<td style=\"text-align:center;\">10,356\n",
       "</td></tr>\n",
       "<tr>\n",
       "<td style=\"text-align:left;\"><a href=\"/wiki/Middlesbrough_F.C.\" title=\"Middlesbrough F.C.\">Middlesbrough</a></td>\n",
       "<td><span data-sort-value=\"7001170000000000000♠\" style=\"display:none\"></span>17th</td>\n",
       "<td><a href=\"/wiki/Middlesbrough\" title=\"Middlesbrough\">Middlesbrough</a></td>\n",
       "<td><a href=\"/wiki/Riverside_Stadium\" title=\"Riverside Stadium\">Riverside Stadium</a></td>\n",
       "<td align=\"center\">34,742\n",
       "</td></tr>\n",
       "<tr>\n",
       "<td style=\"text-align:left;\"><a href=\"/wiki/Millwall_F.C.\" title=\"Millwall F.C.\">Millwall</a></td>\n",
       "<td><span data-sort-value=\"7000800000000000000♠\" style=\"display:none\"></span>8th</td>\n",
       "<td>London <small>(<a href=\"/wiki/South_Bermondsey\" title=\"South Bermondsey\">South Bermondsey</a>)</small></td>\n",
       "<td><a href=\"/wiki/The_Den\" title=\"The Den\">The Den</a></td>\n",
       "<td align=\"center\">20,146\n",
       "</td></tr>\n",
       "<tr>\n",
       "<td style=\"text-align:left;\"><a href=\"/wiki/Norwich_City_F.C.\" title=\"Norwich City F.C.\">Norwich City</a></td>\n",
       "<td><span data-sort-value=\"7000300000000000000♠\" style=\"display:none\"></span> 20th in <a href=\"/wiki/2019%E2%80%9320_Premier_League\" title=\"2019–20 Premier League\">Premier League</a> (relegated)</td>\n",
       "<td><a href=\"/wiki/Norwich\" title=\"Norwich\">Norwich</a></td>\n",
       "<td><a href=\"/wiki/Carrow_Road\" title=\"Carrow Road\">Carrow Road</a></td>\n",
       "<td align=\"center\">27,244\n",
       "</td></tr>\n",
       "<tr>\n",
       "<td style=\"text-align:left;\"><a href=\"/wiki/Nottingham_Forest_F.C.\" title=\"Nottingham Forest F.C.\">Nottingham Forest</a></td>\n",
       "<td><span data-sort-value=\"7000700000000000000♠\" style=\"display:none\"></span>7th</td>\n",
       "<td><a href=\"/wiki/Nottingham\" title=\"Nottingham\">Nottingham</a></td>\n",
       "<td><a href=\"/wiki/City_Ground\" title=\"City Ground\">City Ground</a></td>\n",
       "<td align=\"center\">30,576\n",
       "</td></tr>\n",
       "<tr>\n",
       "<td style=\"text-align:left;\"><a href=\"/wiki/Preston_North_End_F.C.\" title=\"Preston North End F.C.\">Preston North End</a></td>\n",
       "<td><span data-sort-value=\"7000900000000000000♠\" style=\"display:none\"></span>9th</td>\n",
       "<td><a href=\"/wiki/Preston,_Lancashire\" title=\"Preston, Lancashire\">Preston</a></td>\n",
       "<td><a href=\"/wiki/Deepdale\" title=\"Deepdale\">Deepdale</a></td>\n",
       "<td align=\"center\">23,408\n",
       "</td></tr>\n",
       "<tr>\n",
       "<td style=\"text-align:left;\"><a href=\"/wiki/Queens_Park_Rangers_F.C.\" title=\"Queens Park Rangers F.C.\">Queens Park Rangers</a></td>\n",
       "<td><span data-sort-value=\"7001130000000000000♠\" style=\"display:none\"></span>13th</td>\n",
       "<td>London <small>(<a href=\"/wiki/Shepherd%27s_Bush\" title=\"Shepherd's Bush\">Shepherd's Bush</a>)</small></td>\n",
       "<td><a href=\"/wiki/Loftus_Road\" title=\"Loftus Road\">Loftus Road</a></td>\n",
       "<td align=\"center\">18,360\n",
       "</td></tr>\n",
       "<tr>\n",
       "<td style=\"text-align:left;\"><a href=\"/wiki/Reading_F.C.\" title=\"Reading F.C.\">Reading</a></td>\n",
       "<td><span data-sort-value=\"7001140000000000000♠\" style=\"display:none\"></span>14th</td>\n",
       "<td><a href=\"/wiki/Reading,_Berkshire\" title=\"Reading, Berkshire\">Reading</a></td>\n",
       "<td><a href=\"/wiki/Madejski_Stadium\" title=\"Madejski Stadium\">Madejski Stadium</a></td>\n",
       "<td align=\"center\">24,200\n",
       "</td></tr>\n",
       "<tr>\n",
       "<td style=\"text-align:left;\"><a href=\"/wiki/Rotherham_United_F.C.\" title=\"Rotherham United F.C.\">Rotherham United</a></td>\n",
       "<td><span data-sort-value=\"7001230000000000000♠\" style=\"display:none\"></span>2nd in <a href=\"/wiki/2019%E2%80%9320_EFL_League_One\" title=\"2019–20 EFL League One\">League One</a> (promoted)</td>\n",
       "<td><a href=\"/wiki/Rotherham\" title=\"Rotherham\">Rotherham</a></td>\n",
       "<td><a href=\"/wiki/New_York_Stadium\" title=\"New York Stadium\">New York Stadium</a></td>\n",
       "<td align=\"center\">12,021\n",
       "</td></tr>\n",
       "<tr>\n",
       "<td style=\"text-align:left;\"><a href=\"/wiki/Sheffield_Wednesday_F.C.\" title=\"Sheffield Wednesday F.C.\">Sheffield Wednesday</a></td>\n",
       "<td><span data-sort-value=\"7001160000000000000♠\" style=\"display:none\"></span>16th</td>\n",
       "<td><a href=\"/wiki/Sheffield\" title=\"Sheffield\">Sheffield</a></td>\n",
       "<td><a href=\"/wiki/Hillsborough_Stadium\" title=\"Hillsborough Stadium\">Hillsborough</a></td>\n",
       "<td align=\"center\">39,732\n",
       "</td></tr>\n",
       "<tr>\n",
       "<td style=\"text-align:left;\"><a href=\"/wiki/Stoke_City_F.C.\" title=\"Stoke City F.C.\">Stoke City</a></td>\n",
       "<td><span data-sort-value=\"7001150000000000000♠\" style=\"display:none\"></span>15th</td>\n",
       "<td><a href=\"/wiki/Stoke-on-Trent\" title=\"Stoke-on-Trent\">Stoke-on-Trent</a></td>\n",
       "<td><a href=\"/wiki/Bet365_Stadium\" title=\"Bet365 Stadium\">bet365 Stadium</a></td>\n",
       "<td align=\"center\">30,089\n",
       "</td></tr>\n",
       "<tr>\n",
       "<td style=\"text-align:left;\"><a href=\"/wiki/Swansea_City_A.F.C.\" title=\"Swansea City A.F.C.\">Swansea City</a></td>\n",
       "<td><span data-sort-value=\"7000500000000000000♠\" style=\"display:none\"></span>6th</td>\n",
       "<td><a href=\"/wiki/Swansea\" title=\"Swansea\">Swansea</a></td>\n",
       "<td><a href=\"/wiki/Liberty_Stadium\" title=\"Liberty Stadium\">Liberty Stadium</a></td>\n",
       "<td align=\"center\">21,088\n",
       "</td></tr>\n",
       "<tr>\n",
       "<td style=\"text-align:left;\"><a href=\"/wiki/Watford_F.C.\" title=\"Watford F.C.\">Watford</a></td>\n",
       "<td><span data-sort-value=\"7000200000000000000♠\" style=\"display:none\"></span> 19th in <a href=\"/wiki/2019%E2%80%9320_Premier_League\" title=\"2019–20 Premier League\">Premier League</a> (relegated)</td>\n",
       "<td><a href=\"/wiki/Watford\" title=\"Watford\">Watford</a></td>\n",
       "<td><a href=\"/wiki/Vicarage_Road\" title=\"Vicarage Road\">Vicarage Road</a></td>\n",
       "<td align=\"center\">21,577\n",
       "</td></tr>\n",
       "<tr>\n",
       "<td style=\"text-align:left;\"><a href=\"/wiki/Wycombe_Wanderers_F.C.\" title=\"Wycombe Wanderers F.C.\">Wycombe Wanderers</a></td>\n",
       "<td><span data-sort-value=\"7001240000000000000♠\" style=\"display:none\"></span>3rd in <a href=\"/wiki/2019%E2%80%9320_EFL_League_One\" title=\"2019–20 EFL League One\">League One</a> (promoted)</td>\n",
       "<td><a href=\"/wiki/High_Wycombe\" title=\"High Wycombe\">High Wycombe</a></td>\n",
       "<td><a href=\"/wiki/Adams_Park\" title=\"Adams Park\">Adams Park</a></td>\n",
       "<td align=\"center\">9,448\n",
       "</td></tr></tbody></table>"
      ]
     },
     "execution_count": 6,
     "metadata": {},
     "output_type": "execute_result"
    }
   ],
   "source": [
    "soup.find(\"table\", {\"class\":\"wikitable sortable\"})"
   ]
  },
  {
   "cell_type": "code",
   "execution_count": 7,
   "metadata": {},
   "outputs": [],
   "source": [
    "table_html = soup.find(\"table\", {\"class\":\"wikitable sortable\"})"
   ]
  },
  {
   "cell_type": "markdown",
   "metadata": {},
   "source": [
    "### Read it into a dataframe with `pandas`"
   ]
  },
  {
   "cell_type": "code",
   "execution_count": 8,
   "metadata": {},
   "outputs": [],
   "source": [
    "df_unfiltered = pd.read_html(str(table_html))[0]"
   ]
  },
  {
   "cell_type": "code",
   "execution_count": 9,
   "metadata": {},
   "outputs": [
    {
     "data": {
      "text/html": [
       "<div>\n",
       "<style scoped>\n",
       "    .dataframe tbody tr th:only-of-type {\n",
       "        vertical-align: middle;\n",
       "    }\n",
       "\n",
       "    .dataframe tbody tr th {\n",
       "        vertical-align: top;\n",
       "    }\n",
       "\n",
       "    .dataframe thead th {\n",
       "        text-align: right;\n",
       "    }\n",
       "</style>\n",
       "<table border=\"1\" class=\"dataframe\">\n",
       "  <thead>\n",
       "    <tr style=\"text-align: right;\">\n",
       "      <th></th>\n",
       "      <th>Club</th>\n",
       "      <th>Finishing position last season</th>\n",
       "      <th>Location</th>\n",
       "      <th>Stadium</th>\n",
       "      <th>Capacity[20]</th>\n",
       "    </tr>\n",
       "  </thead>\n",
       "  <tbody>\n",
       "    <tr>\n",
       "      <th>0</th>\n",
       "      <td>Barnsley</td>\n",
       "      <td>NaN</td>\n",
       "      <td>Barnsley</td>\n",
       "      <td>Oakwell</td>\n",
       "      <td>23287</td>\n",
       "    </tr>\n",
       "    <tr>\n",
       "      <th>1</th>\n",
       "      <td>Birmingham City</td>\n",
       "      <td>NaN</td>\n",
       "      <td>Birmingham</td>\n",
       "      <td>St Andrew's</td>\n",
       "      <td>29409</td>\n",
       "    </tr>\n",
       "    <tr>\n",
       "      <th>2</th>\n",
       "      <td>Blackburn Rovers</td>\n",
       "      <td>NaN</td>\n",
       "      <td>Blackburn</td>\n",
       "      <td>Ewood Park</td>\n",
       "      <td>31367</td>\n",
       "    </tr>\n",
       "    <tr>\n",
       "      <th>3</th>\n",
       "      <td>Bournemouth</td>\n",
       "      <td>Premier League (relegated)</td>\n",
       "      <td>Bournemouth</td>\n",
       "      <td>Dean Court</td>\n",
       "      <td>11364</td>\n",
       "    </tr>\n",
       "    <tr>\n",
       "      <th>4</th>\n",
       "      <td>Brentford</td>\n",
       "      <td>NaN</td>\n",
       "      <td>London (Brentford)</td>\n",
       "      <td>Brentford Community Stadium</td>\n",
       "      <td>17250</td>\n",
       "    </tr>\n",
       "  </tbody>\n",
       "</table>\n",
       "</div>"
      ],
      "text/plain": [
       "               Club Finishing position last season            Location  \\\n",
       "0          Barnsley                            NaN            Barnsley   \n",
       "1   Birmingham City                            NaN          Birmingham   \n",
       "2  Blackburn Rovers                            NaN           Blackburn   \n",
       "3       Bournemouth     Premier League (relegated)         Bournemouth   \n",
       "4         Brentford                            NaN  London (Brentford)   \n",
       "\n",
       "                       Stadium  Capacity[20]  \n",
       "0                      Oakwell         23287  \n",
       "1                  St Andrew's         29409  \n",
       "2                   Ewood Park         31367  \n",
       "3                   Dean Court         11364  \n",
       "4  Brentford Community Stadium         17250  "
      ]
     },
     "execution_count": 9,
     "metadata": {},
     "output_type": "execute_result"
    }
   ],
   "source": [
    "df_unfiltered.head()"
   ]
  },
  {
   "cell_type": "markdown",
   "metadata": {},
   "source": [
    "### Filter it to the columns we care about"
   ]
  },
  {
   "cell_type": "code",
   "execution_count": 10,
   "metadata": {},
   "outputs": [],
   "source": [
    "df = df_unfiltered[['Club', 'Stadium']]"
   ]
  },
  {
   "cell_type": "code",
   "execution_count": 11,
   "metadata": {},
   "outputs": [
    {
     "data": {
      "text/html": [
       "<div>\n",
       "<style scoped>\n",
       "    .dataframe tbody tr th:only-of-type {\n",
       "        vertical-align: middle;\n",
       "    }\n",
       "\n",
       "    .dataframe tbody tr th {\n",
       "        vertical-align: top;\n",
       "    }\n",
       "\n",
       "    .dataframe thead th {\n",
       "        text-align: right;\n",
       "    }\n",
       "</style>\n",
       "<table border=\"1\" class=\"dataframe\">\n",
       "  <thead>\n",
       "    <tr style=\"text-align: right;\">\n",
       "      <th></th>\n",
       "      <th>Club</th>\n",
       "      <th>Stadium</th>\n",
       "    </tr>\n",
       "  </thead>\n",
       "  <tbody>\n",
       "    <tr>\n",
       "      <th>0</th>\n",
       "      <td>Barnsley</td>\n",
       "      <td>Oakwell</td>\n",
       "    </tr>\n",
       "    <tr>\n",
       "      <th>1</th>\n",
       "      <td>Birmingham City</td>\n",
       "      <td>St Andrew's</td>\n",
       "    </tr>\n",
       "    <tr>\n",
       "      <th>2</th>\n",
       "      <td>Blackburn Rovers</td>\n",
       "      <td>Ewood Park</td>\n",
       "    </tr>\n",
       "    <tr>\n",
       "      <th>3</th>\n",
       "      <td>Bournemouth</td>\n",
       "      <td>Dean Court</td>\n",
       "    </tr>\n",
       "    <tr>\n",
       "      <th>4</th>\n",
       "      <td>Brentford</td>\n",
       "      <td>Brentford Community Stadium</td>\n",
       "    </tr>\n",
       "  </tbody>\n",
       "</table>\n",
       "</div>"
      ],
      "text/plain": [
       "               Club                      Stadium\n",
       "0          Barnsley                      Oakwell\n",
       "1   Birmingham City                  St Andrew's\n",
       "2  Blackburn Rovers                   Ewood Park\n",
       "3       Bournemouth                   Dean Court\n",
       "4         Brentford  Brentford Community Stadium"
      ]
     },
     "execution_count": 11,
     "metadata": {},
     "output_type": "execute_result"
    }
   ],
   "source": [
    "df.head()"
   ]
  },
  {
   "cell_type": "markdown",
   "metadata": {},
   "source": [
    "### Pulling it all under one function"
   ]
  },
  {
   "cell_type": "code",
   "execution_count": 12,
   "metadata": {},
   "outputs": [],
   "source": [
    "df = efl.get_efl_team_data()"
   ]
  },
  {
   "cell_type": "code",
   "execution_count": 13,
   "metadata": {},
   "outputs": [
    {
     "data": {
      "text/html": [
       "<div>\n",
       "<style scoped>\n",
       "    .dataframe tbody tr th:only-of-type {\n",
       "        vertical-align: middle;\n",
       "    }\n",
       "\n",
       "    .dataframe tbody tr th {\n",
       "        vertical-align: top;\n",
       "    }\n",
       "\n",
       "    .dataframe thead th {\n",
       "        text-align: right;\n",
       "    }\n",
       "</style>\n",
       "<table border=\"1\" class=\"dataframe\">\n",
       "  <thead>\n",
       "    <tr style=\"text-align: right;\">\n",
       "      <th></th>\n",
       "      <th>Club</th>\n",
       "      <th>Stadium</th>\n",
       "    </tr>\n",
       "  </thead>\n",
       "  <tbody>\n",
       "    <tr>\n",
       "      <th>0</th>\n",
       "      <td>Barnsley</td>\n",
       "      <td>Oakwell</td>\n",
       "    </tr>\n",
       "    <tr>\n",
       "      <th>1</th>\n",
       "      <td>Birmingham City</td>\n",
       "      <td>St Andrew's</td>\n",
       "    </tr>\n",
       "    <tr>\n",
       "      <th>2</th>\n",
       "      <td>Blackburn Rovers</td>\n",
       "      <td>Ewood Park</td>\n",
       "    </tr>\n",
       "    <tr>\n",
       "      <th>3</th>\n",
       "      <td>Bournemouth</td>\n",
       "      <td>Dean Court</td>\n",
       "    </tr>\n",
       "    <tr>\n",
       "      <th>4</th>\n",
       "      <td>Brentford</td>\n",
       "      <td>Brentford Community Stadium</td>\n",
       "    </tr>\n",
       "    <tr>\n",
       "      <th>5</th>\n",
       "      <td>Bristol City</td>\n",
       "      <td>Ashton Gate</td>\n",
       "    </tr>\n",
       "    <tr>\n",
       "      <th>6</th>\n",
       "      <td>Cardiff City</td>\n",
       "      <td>Cardiff City Stadium</td>\n",
       "    </tr>\n",
       "    <tr>\n",
       "      <th>7</th>\n",
       "      <td>Coventry City</td>\n",
       "      <td>St Andrew's</td>\n",
       "    </tr>\n",
       "    <tr>\n",
       "      <th>8</th>\n",
       "      <td>Derby County</td>\n",
       "      <td>Pride Park Stadium</td>\n",
       "    </tr>\n",
       "    <tr>\n",
       "      <th>9</th>\n",
       "      <td>Huddersfield Town</td>\n",
       "      <td>Kirklees Stadium</td>\n",
       "    </tr>\n",
       "    <tr>\n",
       "      <th>10</th>\n",
       "      <td>Luton Town</td>\n",
       "      <td>Kenilworth Road</td>\n",
       "    </tr>\n",
       "    <tr>\n",
       "      <th>11</th>\n",
       "      <td>Middlesbrough</td>\n",
       "      <td>Riverside Stadium</td>\n",
       "    </tr>\n",
       "    <tr>\n",
       "      <th>12</th>\n",
       "      <td>Millwall</td>\n",
       "      <td>The Den</td>\n",
       "    </tr>\n",
       "    <tr>\n",
       "      <th>13</th>\n",
       "      <td>Norwich City</td>\n",
       "      <td>Carrow Road</td>\n",
       "    </tr>\n",
       "    <tr>\n",
       "      <th>14</th>\n",
       "      <td>Nottingham Forest</td>\n",
       "      <td>City Ground</td>\n",
       "    </tr>\n",
       "    <tr>\n",
       "      <th>15</th>\n",
       "      <td>Preston North End</td>\n",
       "      <td>Deepdale</td>\n",
       "    </tr>\n",
       "    <tr>\n",
       "      <th>16</th>\n",
       "      <td>Queens Park Rangers</td>\n",
       "      <td>Loftus Road</td>\n",
       "    </tr>\n",
       "    <tr>\n",
       "      <th>17</th>\n",
       "      <td>Reading</td>\n",
       "      <td>Madejski Stadium</td>\n",
       "    </tr>\n",
       "    <tr>\n",
       "      <th>18</th>\n",
       "      <td>Rotherham United</td>\n",
       "      <td>New York Stadium</td>\n",
       "    </tr>\n",
       "    <tr>\n",
       "      <th>19</th>\n",
       "      <td>Sheffield Wednesday</td>\n",
       "      <td>Hillsborough</td>\n",
       "    </tr>\n",
       "    <tr>\n",
       "      <th>20</th>\n",
       "      <td>Stoke City</td>\n",
       "      <td>bet365 Stadium</td>\n",
       "    </tr>\n",
       "    <tr>\n",
       "      <th>21</th>\n",
       "      <td>Swansea City</td>\n",
       "      <td>Liberty Stadium</td>\n",
       "    </tr>\n",
       "    <tr>\n",
       "      <th>22</th>\n",
       "      <td>Watford</td>\n",
       "      <td>Vicarage Road</td>\n",
       "    </tr>\n",
       "    <tr>\n",
       "      <th>23</th>\n",
       "      <td>Wycombe Wanderers</td>\n",
       "      <td>Adams Park</td>\n",
       "    </tr>\n",
       "  </tbody>\n",
       "</table>\n",
       "</div>"
      ],
      "text/plain": [
       "                   Club                      Stadium\n",
       "0              Barnsley                      Oakwell\n",
       "1       Birmingham City                  St Andrew's\n",
       "2      Blackburn Rovers                   Ewood Park\n",
       "3           Bournemouth                   Dean Court\n",
       "4             Brentford  Brentford Community Stadium\n",
       "5          Bristol City                  Ashton Gate\n",
       "6          Cardiff City         Cardiff City Stadium\n",
       "7         Coventry City                  St Andrew's\n",
       "8          Derby County           Pride Park Stadium\n",
       "9     Huddersfield Town             Kirklees Stadium\n",
       "10           Luton Town              Kenilworth Road\n",
       "11        Middlesbrough            Riverside Stadium\n",
       "12             Millwall                      The Den\n",
       "13         Norwich City                  Carrow Road\n",
       "14    Nottingham Forest                  City Ground\n",
       "15    Preston North End                     Deepdale\n",
       "16  Queens Park Rangers                  Loftus Road\n",
       "17              Reading             Madejski Stadium\n",
       "18     Rotherham United             New York Stadium\n",
       "19  Sheffield Wednesday                 Hillsborough\n",
       "20           Stoke City               bet365 Stadium\n",
       "21         Swansea City              Liberty Stadium\n",
       "22              Watford                Vicarage Road\n",
       "23    Wycombe Wanderers                   Adams Park"
      ]
     },
     "execution_count": 13,
     "metadata": {},
     "output_type": "execute_result"
    }
   ],
   "source": [
    "df"
   ]
  },
  {
   "cell_type": "code",
   "execution_count": null,
   "metadata": {},
   "outputs": [],
   "source": []
  }
 ],
 "metadata": {
  "kernelspec": {
   "display_name": "bournemouth_mapping",
   "language": "python",
   "name": "bournemouth_mapping"
  },
  "language_info": {
   "codemirror_mode": {
    "name": "ipython",
    "version": 3
   },
   "file_extension": ".py",
   "mimetype": "text/x-python",
   "name": "python",
   "nbconvert_exporter": "python",
   "pygments_lexer": "ipython3",
   "version": "3.8.5"
  }
 },
 "nbformat": 4,
 "nbformat_minor": 4
}

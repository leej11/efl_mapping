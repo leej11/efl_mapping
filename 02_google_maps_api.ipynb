{
 "cells": [
  {
   "cell_type": "markdown",
   "metadata": {},
   "source": [
    "# Getting locations with Google Maps API\n",
    "So part 2 of our project, we need to get information about the location, or coordinates of the respective football clubs in the EFL Championship, in order for us to plot them accurately on a UK map.\n",
    "\n",
    "To do this, I've used the Google Maps Directions API."
   ]
  },
  {
   "cell_type": "code",
   "execution_count": 1,
   "metadata": {},
   "outputs": [],
   "source": [
    "import requests"
   ]
  },
  {
   "cell_type": "markdown",
   "metadata": {},
   "source": [
    "As before, I've chosen to use the `requests` module to send a GET() request to the API endpoint of the Google Maps API."
   ]
  },
  {
   "cell_type": "markdown",
   "metadata": {},
   "source": [
    "### What is an API?\n",
    "Before we continue, an API, which stands for Application Programming Interface, is simply a way you can speak to other applications. \n",
    "\n",
    "For a quick 3 minute video overview on what an API is, I'd recommend [this one](https://youtu.be/s7wmiS2mSXY).\n",
    "\n",
    "So for Google Maps, we are essentially sending a request to find out information about how to get between an origin, and a destination, and as long as we follow the syntax that their API requires, and provide it an access or API key (so they know it is me and not someone abusing their systems), they will behind the scenes process the request and return the useful information! Voila!"
   ]
  },
  {
   "cell_type": "markdown",
   "metadata": {},
   "source": [
    "### Setting up a Google Developer Account"
   ]
  },
  {
   "cell_type": "markdown",
   "metadata": {},
   "source": [
    "* Navigate to [The Google Cloud - Maps Platform](https://cloud.google.com/maps-platform/) and sign up\n",
    "* Unfortunately you do have to give a debit/credit card, but you get $300 of credit to use, and unless you're building a full-blown application, it is very unlikely you'll hit the limit enough to cost you money!\n",
    "* Once you've done that, you'll want to enable a specific API credential, for the Google Maps Directions API\n",
    "* You'll then receive an API Key, which is your SECRET key to authenticate with Google Maps, so they know it is you.\n"
   ]
  },
  {
   "cell_type": "markdown",
   "metadata": {},
   "source": [
    "### Building a function to query the API\n",
    "Once you have the API Key, you can go about building a function to query this API and capture the response.\n",
    "\n",
    "To understand how to structure your query/request, generally you can just read the documentation. Let's take a look [here](https://developers.google.com/maps/documentation/directions/overview)."
   ]
  },
  {
   "cell_type": "code",
   "execution_count": 36,
   "metadata": {},
   "outputs": [],
   "source": [
    "def get_directions(origin: str, destination: str):\n",
    "    \"\"\"\n",
    "    This function will take in an origin and a destination, query the Google\n",
    "    Maps API and then return the json response in dictionary form.\n",
    "\n",
    "    :param origin: The start location from where you will be travelling from.\n",
    "    :param destination: The location you want to travel to.\n",
    "    :return: Dictionary of direction information\n",
    "    \"\"\"\n",
    "    API_KEY = \"\"\n",
    "    endpoint = \"https://maps.googleapis.com/maps/api/directions/json?\"\n",
    "    nav_request = f\"origin={origin}&destination={destination}&key={API_KEY}\"\n",
    "    request = endpoint + nav_request\n",
    "    response = requests.get(request).json()\n",
    "    \n",
    "    return response"
   ]
  },
  {
   "cell_type": "code",
   "execution_count": 37,
   "metadata": {},
   "outputs": [],
   "source": [
    "directions = get_directions(\"Nottingham\", \"Bournemouth\")"
   ]
  },
  {
   "cell_type": "code",
   "execution_count": 44,
   "metadata": {},
   "outputs": [
    {
     "data": {
      "text/plain": [
       "313988"
      ]
     },
     "execution_count": 44,
     "metadata": {},
     "output_type": "execute_result"
    }
   ],
   "source": [
    "directions['routes'][0]['legs'][0]['distance']['value']"
   ]
  },
  {
   "cell_type": "markdown",
   "metadata": {},
   "source": [
    "### Helper Functions\n",
    "Okay now that we've got a really helpful function that pulls all the useful information about directions between 2 locations, we will now create a handful of [modular](https://en.wikipedia.org/wiki/Modular_programming#:~:text=Modular%20programming%20is%20a%20software,aspect%20of%20the%20desired%20functionality.), helper functions that each serve their own purpose.\n",
    "\n",
    "1. Function that handles the response data to get the distance between 2 points\n",
    "1. Function that handles the response data to get the latitude and longitude between 2 points\n",
    "1. Function to convert metres to kilometres, and round-up.\n"
   ]
  },
  {
   "cell_type": "code",
   "execution_count": 20,
   "metadata": {},
   "outputs": [],
   "source": [
    "def get_distance(directions):\n",
    "    return directions['routes'][0]['legs'][0]['distance']['value']\n",
    "\n",
    "def get_lat_long(directions):\n",
    "    end_location = directions['routes'][0]['legs'][0]['end_location']\n",
    "    latitude = end_location['lat']\n",
    "    longitude = end_location['lng']\n",
    "    return (latitude, longitude)\n",
    "\n",
    "from math import ceil\n",
    "def convert_distance_m_to_km(distance):\n",
    "    distance_km = ceil(distance / 1000)\n",
    "    return distance_km"
   ]
  },
  {
   "cell_type": "code",
   "execution_count": 45,
   "metadata": {},
   "outputs": [
    {
     "data": {
      "text/plain": [
       "313988"
      ]
     },
     "execution_count": 45,
     "metadata": {},
     "output_type": "execute_result"
    }
   ],
   "source": [
    "distance = get_distance(directions)\n",
    "distance"
   ]
  },
  {
   "cell_type": "code",
   "execution_count": 46,
   "metadata": {},
   "outputs": [
    {
     "data": {
      "text/plain": [
       "(50.71915509999999, -1.880781)"
      ]
     },
     "execution_count": 46,
     "metadata": {},
     "output_type": "execute_result"
    }
   ],
   "source": [
    "lat_long = get_lat_long(directions)\n",
    "lat_long"
   ]
  },
  {
   "cell_type": "code",
   "execution_count": 47,
   "metadata": {},
   "outputs": [
    {
     "data": {
      "text/plain": [
       "314"
      ]
     },
     "execution_count": 47,
     "metadata": {},
     "output_type": "execute_result"
    }
   ],
   "source": [
    "convert_distance_m_to_km(distance)"
   ]
  },
  {
   "cell_type": "markdown",
   "metadata": {},
   "source": [
    "### Applying it all to our EFL team data"
   ]
  },
  {
   "cell_type": "code",
   "execution_count": 48,
   "metadata": {},
   "outputs": [],
   "source": [
    "import efl_mapping as efl"
   ]
  },
  {
   "cell_type": "code",
   "execution_count": 49,
   "metadata": {},
   "outputs": [],
   "source": [
    "df = efl.get_efl_team_data()"
   ]
  },
  {
   "cell_type": "code",
   "execution_count": 50,
   "metadata": {},
   "outputs": [
    {
     "data": {
      "text/html": [
       "<div>\n",
       "<style scoped>\n",
       "    .dataframe tbody tr th:only-of-type {\n",
       "        vertical-align: middle;\n",
       "    }\n",
       "\n",
       "    .dataframe tbody tr th {\n",
       "        vertical-align: top;\n",
       "    }\n",
       "\n",
       "    .dataframe thead th {\n",
       "        text-align: right;\n",
       "    }\n",
       "</style>\n",
       "<table border=\"1\" class=\"dataframe\">\n",
       "  <thead>\n",
       "    <tr style=\"text-align: right;\">\n",
       "      <th></th>\n",
       "      <th>Club</th>\n",
       "      <th>Stadium</th>\n",
       "    </tr>\n",
       "  </thead>\n",
       "  <tbody>\n",
       "    <tr>\n",
       "      <th>0</th>\n",
       "      <td>Barnsley</td>\n",
       "      <td>Oakwell</td>\n",
       "    </tr>\n",
       "    <tr>\n",
       "      <th>1</th>\n",
       "      <td>Birmingham City</td>\n",
       "      <td>St Andrew's</td>\n",
       "    </tr>\n",
       "    <tr>\n",
       "      <th>2</th>\n",
       "      <td>Blackburn Rovers</td>\n",
       "      <td>Ewood Park</td>\n",
       "    </tr>\n",
       "    <tr>\n",
       "      <th>3</th>\n",
       "      <td>Bournemouth</td>\n",
       "      <td>Dean Court</td>\n",
       "    </tr>\n",
       "    <tr>\n",
       "      <th>4</th>\n",
       "      <td>Brentford</td>\n",
       "      <td>Brentford Community Stadium</td>\n",
       "    </tr>\n",
       "  </tbody>\n",
       "</table>\n",
       "</div>"
      ],
      "text/plain": [
       "               Club                      Stadium\n",
       "0          Barnsley                      Oakwell\n",
       "1   Birmingham City                  St Andrew's\n",
       "2  Blackburn Rovers                   Ewood Park\n",
       "3       Bournemouth                   Dean Court\n",
       "4         Brentford  Brentford Community Stadium"
      ]
     },
     "execution_count": 50,
     "metadata": {},
     "output_type": "execute_result"
    }
   ],
   "source": [
    "df.head()"
   ]
  },
  {
   "cell_type": "code",
   "execution_count": 51,
   "metadata": {},
   "outputs": [
    {
     "name": "stdout",
     "output_type": "stream",
     "text": [
      "Oakwell Barnsley\n",
      "St Andrew's Birmingham City\n",
      "Ewood Park Blackburn Rovers\n",
      "Dean Court Bournemouth\n",
      "Brentford Community Stadium Brentford\n",
      "Ashton Gate Bristol City\n",
      "Cardiff City Stadium Cardiff City\n",
      "St Andrew's Coventry City\n",
      "Pride Park Stadium Derby County\n",
      "Kirklees Stadium Huddersfield Town\n",
      "Kenilworth Road Luton Town\n",
      "Riverside Stadium Middlesbrough\n",
      "The Den Millwall\n",
      "Carrow Road Norwich City\n",
      "City Ground Nottingham Forest\n",
      "Deepdale Preston North End\n",
      "Loftus Road Queens Park Rangers\n",
      "Madejski Stadium Reading\n",
      "New York Stadium Rotherham United\n",
      "Hillsborough Sheffield Wednesday\n",
      "bet365 Stadium Stoke City\n",
      "Liberty Stadium Swansea City\n",
      "Vicarage Road Watford\n",
      "Adams Park Wycombe Wanderers\n"
     ]
    }
   ],
   "source": [
    "import pandas as pd\n",
    "\n",
    "origin = \"Nottingham\"\n",
    "stadium_list = {}\n",
    "\n",
    "df = efl.get_efl_team_data()\n",
    "\n",
    "for stadium, club in zip(df.Stadium, df.Club):\n",
    "    print(stadium, club)\n",
    "    destination = stadium + ' ' + club\n",
    "    # destination = replace_space_with_plus(destination)\n",
    "    directions = get_directions(origin, destination)\n",
    "    distance = get_distance(directions)\n",
    "    lat_long = get_lat_long(directions)\n",
    "    stadium_list[stadium] = {\n",
    "        \"distance\": convert_distance_m_to_km(distance),\n",
    "        \"latitude\": lat_long[0],\n",
    "        \"longitude\": lat_long[1],\n",
    "    }\n",
    "    \n",
    "lat_long_df = pd.DataFrame.from_dict(stadium_list).T\n",
    "df = df.merge(lat_long_df, how='inner', left_on='Stadium', right_index=True)"
   ]
  },
  {
   "cell_type": "code",
   "execution_count": 52,
   "metadata": {},
   "outputs": [
    {
     "data": {
      "text/html": [
       "<div>\n",
       "<style scoped>\n",
       "    .dataframe tbody tr th:only-of-type {\n",
       "        vertical-align: middle;\n",
       "    }\n",
       "\n",
       "    .dataframe tbody tr th {\n",
       "        vertical-align: top;\n",
       "    }\n",
       "\n",
       "    .dataframe thead th {\n",
       "        text-align: right;\n",
       "    }\n",
       "</style>\n",
       "<table border=\"1\" class=\"dataframe\">\n",
       "  <thead>\n",
       "    <tr style=\"text-align: right;\">\n",
       "      <th></th>\n",
       "      <th>Club</th>\n",
       "      <th>Stadium</th>\n",
       "      <th>distance</th>\n",
       "      <th>latitude</th>\n",
       "      <th>longitude</th>\n",
       "    </tr>\n",
       "  </thead>\n",
       "  <tbody>\n",
       "    <tr>\n",
       "      <th>0</th>\n",
       "      <td>Barnsley</td>\n",
       "      <td>Oakwell</td>\n",
       "      <td>86.0</td>\n",
       "      <td>53.551975</td>\n",
       "      <td>-1.469151</td>\n",
       "    </tr>\n",
       "    <tr>\n",
       "      <th>1</th>\n",
       "      <td>Birmingham City</td>\n",
       "      <td>St Andrew's</td>\n",
       "      <td>84.0</td>\n",
       "      <td>52.476337</td>\n",
       "      <td>-1.867842</td>\n",
       "    </tr>\n",
       "    <tr>\n",
       "      <th>7</th>\n",
       "      <td>Coventry City</td>\n",
       "      <td>St Andrew's</td>\n",
       "      <td>84.0</td>\n",
       "      <td>52.476337</td>\n",
       "      <td>-1.867842</td>\n",
       "    </tr>\n",
       "    <tr>\n",
       "      <th>2</th>\n",
       "      <td>Blackburn Rovers</td>\n",
       "      <td>Ewood Park</td>\n",
       "      <td>198.0</td>\n",
       "      <td>53.728238</td>\n",
       "      <td>-2.490504</td>\n",
       "    </tr>\n",
       "    <tr>\n",
       "      <th>3</th>\n",
       "      <td>Bournemouth</td>\n",
       "      <td>Dean Court</td>\n",
       "      <td>310.0</td>\n",
       "      <td>50.734809</td>\n",
       "      <td>-1.840450</td>\n",
       "    </tr>\n",
       "    <tr>\n",
       "      <th>4</th>\n",
       "      <td>Brentford</td>\n",
       "      <td>Brentford Community Stadium</td>\n",
       "      <td>206.0</td>\n",
       "      <td>51.489809</td>\n",
       "      <td>-0.287871</td>\n",
       "    </tr>\n",
       "    <tr>\n",
       "      <th>5</th>\n",
       "      <td>Bristol City</td>\n",
       "      <td>Ashton Gate</td>\n",
       "      <td>229.0</td>\n",
       "      <td>51.441430</td>\n",
       "      <td>-2.620553</td>\n",
       "    </tr>\n",
       "    <tr>\n",
       "      <th>6</th>\n",
       "      <td>Cardiff City</td>\n",
       "      <td>Cardiff City Stadium</td>\n",
       "      <td>271.0</td>\n",
       "      <td>51.473613</td>\n",
       "      <td>-3.202064</td>\n",
       "    </tr>\n",
       "    <tr>\n",
       "      <th>8</th>\n",
       "      <td>Derby County</td>\n",
       "      <td>Pride Park Stadium</td>\n",
       "      <td>23.0</td>\n",
       "      <td>52.914314</td>\n",
       "      <td>-1.448229</td>\n",
       "    </tr>\n",
       "    <tr>\n",
       "      <th>9</th>\n",
       "      <td>Huddersfield Town</td>\n",
       "      <td>Kirklees Stadium</td>\n",
       "      <td>108.0</td>\n",
       "      <td>53.655047</td>\n",
       "      <td>-1.768938</td>\n",
       "    </tr>\n",
       "    <tr>\n",
       "      <th>10</th>\n",
       "      <td>Luton Town</td>\n",
       "      <td>Kenilworth Road</td>\n",
       "      <td>154.0</td>\n",
       "      <td>51.883503</td>\n",
       "      <td>-0.430597</td>\n",
       "    </tr>\n",
       "    <tr>\n",
       "      <th>11</th>\n",
       "      <td>Middlesbrough</td>\n",
       "      <td>Riverside Stadium</td>\n",
       "      <td>208.0</td>\n",
       "      <td>54.577049</td>\n",
       "      <td>-1.218133</td>\n",
       "    </tr>\n",
       "    <tr>\n",
       "      <th>12</th>\n",
       "      <td>Millwall</td>\n",
       "      <td>The Den</td>\n",
       "      <td>213.0</td>\n",
       "      <td>51.486806</td>\n",
       "      <td>-0.050876</td>\n",
       "    </tr>\n",
       "    <tr>\n",
       "      <th>13</th>\n",
       "      <td>Norwich City</td>\n",
       "      <td>Carrow Road</td>\n",
       "      <td>204.0</td>\n",
       "      <td>52.621484</td>\n",
       "      <td>1.310157</td>\n",
       "    </tr>\n",
       "    <tr>\n",
       "      <th>14</th>\n",
       "      <td>Nottingham Forest</td>\n",
       "      <td>City Ground</td>\n",
       "      <td>5.0</td>\n",
       "      <td>52.939154</td>\n",
       "      <td>-1.133441</td>\n",
       "    </tr>\n",
       "    <tr>\n",
       "      <th>15</th>\n",
       "      <td>Preston North End</td>\n",
       "      <td>Deepdale</td>\n",
       "      <td>193.0</td>\n",
       "      <td>53.772370</td>\n",
       "      <td>-2.690285</td>\n",
       "    </tr>\n",
       "    <tr>\n",
       "      <th>16</th>\n",
       "      <td>Queens Park Rangers</td>\n",
       "      <td>Loftus Road</td>\n",
       "      <td>207.0</td>\n",
       "      <td>51.509958</td>\n",
       "      <td>-0.232118</td>\n",
       "    </tr>\n",
       "    <tr>\n",
       "      <th>17</th>\n",
       "      <td>Reading</td>\n",
       "      <td>Madejski Stadium</td>\n",
       "      <td>228.0</td>\n",
       "      <td>51.421485</td>\n",
       "      <td>-0.981050</td>\n",
       "    </tr>\n",
       "    <tr>\n",
       "      <th>18</th>\n",
       "      <td>Rotherham United</td>\n",
       "      <td>New York Stadium</td>\n",
       "      <td>66.0</td>\n",
       "      <td>53.428022</td>\n",
       "      <td>-1.362561</td>\n",
       "    </tr>\n",
       "    <tr>\n",
       "      <th>19</th>\n",
       "      <td>Sheffield Wednesday</td>\n",
       "      <td>Hillsborough</td>\n",
       "      <td>74.0</td>\n",
       "      <td>53.410630</td>\n",
       "      <td>-1.500118</td>\n",
       "    </tr>\n",
       "    <tr>\n",
       "      <th>20</th>\n",
       "      <td>Stoke City</td>\n",
       "      <td>bet365 Stadium</td>\n",
       "      <td>85.0</td>\n",
       "      <td>52.988357</td>\n",
       "      <td>-2.177026</td>\n",
       "    </tr>\n",
       "    <tr>\n",
       "      <th>21</th>\n",
       "      <td>Swansea City</td>\n",
       "      <td>Liberty Stadium</td>\n",
       "      <td>302.0</td>\n",
       "      <td>51.641389</td>\n",
       "      <td>-3.934658</td>\n",
       "    </tr>\n",
       "    <tr>\n",
       "      <th>22</th>\n",
       "      <td>Watford</td>\n",
       "      <td>Vicarage Road</td>\n",
       "      <td>181.0</td>\n",
       "      <td>51.650486</td>\n",
       "      <td>-0.402496</td>\n",
       "    </tr>\n",
       "    <tr>\n",
       "      <th>23</th>\n",
       "      <td>Wycombe Wanderers</td>\n",
       "      <td>Adams Park</td>\n",
       "      <td>198.0</td>\n",
       "      <td>51.630311</td>\n",
       "      <td>-0.799159</td>\n",
       "    </tr>\n",
       "  </tbody>\n",
       "</table>\n",
       "</div>"
      ],
      "text/plain": [
       "                   Club                      Stadium  distance   latitude  \\\n",
       "0              Barnsley                      Oakwell      86.0  53.551975   \n",
       "1       Birmingham City                  St Andrew's      84.0  52.476337   \n",
       "7         Coventry City                  St Andrew's      84.0  52.476337   \n",
       "2      Blackburn Rovers                   Ewood Park     198.0  53.728238   \n",
       "3           Bournemouth                   Dean Court     310.0  50.734809   \n",
       "4             Brentford  Brentford Community Stadium     206.0  51.489809   \n",
       "5          Bristol City                  Ashton Gate     229.0  51.441430   \n",
       "6          Cardiff City         Cardiff City Stadium     271.0  51.473613   \n",
       "8          Derby County           Pride Park Stadium      23.0  52.914314   \n",
       "9     Huddersfield Town             Kirklees Stadium     108.0  53.655047   \n",
       "10           Luton Town              Kenilworth Road     154.0  51.883503   \n",
       "11        Middlesbrough            Riverside Stadium     208.0  54.577049   \n",
       "12             Millwall                      The Den     213.0  51.486806   \n",
       "13         Norwich City                  Carrow Road     204.0  52.621484   \n",
       "14    Nottingham Forest                  City Ground       5.0  52.939154   \n",
       "15    Preston North End                     Deepdale     193.0  53.772370   \n",
       "16  Queens Park Rangers                  Loftus Road     207.0  51.509958   \n",
       "17              Reading             Madejski Stadium     228.0  51.421485   \n",
       "18     Rotherham United             New York Stadium      66.0  53.428022   \n",
       "19  Sheffield Wednesday                 Hillsborough      74.0  53.410630   \n",
       "20           Stoke City               bet365 Stadium      85.0  52.988357   \n",
       "21         Swansea City              Liberty Stadium     302.0  51.641389   \n",
       "22              Watford                Vicarage Road     181.0  51.650486   \n",
       "23    Wycombe Wanderers                   Adams Park     198.0  51.630311   \n",
       "\n",
       "    longitude  \n",
       "0   -1.469151  \n",
       "1   -1.867842  \n",
       "7   -1.867842  \n",
       "2   -2.490504  \n",
       "3   -1.840450  \n",
       "4   -0.287871  \n",
       "5   -2.620553  \n",
       "6   -3.202064  \n",
       "8   -1.448229  \n",
       "9   -1.768938  \n",
       "10  -0.430597  \n",
       "11  -1.218133  \n",
       "12  -0.050876  \n",
       "13   1.310157  \n",
       "14  -1.133441  \n",
       "15  -2.690285  \n",
       "16  -0.232118  \n",
       "17  -0.981050  \n",
       "18  -1.362561  \n",
       "19  -1.500118  \n",
       "20  -2.177026  \n",
       "21  -3.934658  \n",
       "22  -0.402496  \n",
       "23  -0.799159  "
      ]
     },
     "execution_count": 52,
     "metadata": {},
     "output_type": "execute_result"
    }
   ],
   "source": [
    "df"
   ]
  },
  {
   "cell_type": "code",
   "execution_count": null,
   "metadata": {},
   "outputs": [],
   "source": []
  }
 ],
 "metadata": {
  "kernelspec": {
   "display_name": "bournemouth_mapping",
   "language": "python",
   "name": "bournemouth_mapping"
  },
  "language_info": {
   "codemirror_mode": {
    "name": "ipython",
    "version": 3
   },
   "file_extension": ".py",
   "mimetype": "text/x-python",
   "name": "python",
   "nbconvert_exporter": "python",
   "pygments_lexer": "ipython3",
   "version": "3.8.5"
  }
 },
 "nbformat": 4,
 "nbformat_minor": 4
}
